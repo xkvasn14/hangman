{
 "cells": [
  {
   "cell_type": "code",
   "execution_count": 2,
   "metadata": {
    "tags": []
   },
   "outputs": [
    {
     "output_type": "stream",
     "name": "stdout",
     "text": [
      "H A N G M A N\n"
     ]
    },
    {
     "output_type": "error",
     "ename": "TypeError",
     "evalue": "kill() takes exactly 2 arguments (0 given)",
     "traceback": [
      "\u001b[1;31m---------------------------------------------------------------------------\u001b[0m",
      "\u001b[1;31mTypeError\u001b[0m                                 Traceback (most recent call last)",
      "\u001b[1;32m<ipython-input-2-a5e2ae787439>\u001b[0m in \u001b[0;36m<module>\u001b[1;34m\u001b[0m\n\u001b[0;32m      7\u001b[0m         \u001b[1;32mbreak\u001b[0m\u001b[1;33m\u001b[0m\u001b[1;33m\u001b[0m\u001b[0m\n\u001b[0;32m      8\u001b[0m     \u001b[1;32melif\u001b[0m \u001b[0mchoice\u001b[0m \u001b[1;33m==\u001b[0m \u001b[1;34m\"exit\"\u001b[0m\u001b[1;33m:\u001b[0m\u001b[1;33m\u001b[0m\u001b[1;33m\u001b[0m\u001b[0m\n\u001b[1;32m----> 9\u001b[1;33m         \u001b[0mos\u001b[0m\u001b[1;33m.\u001b[0m\u001b[0mkill\u001b[0m\u001b[1;33m(\u001b[0m\u001b[1;33m)\u001b[0m\u001b[1;33m\u001b[0m\u001b[1;33m\u001b[0m\u001b[0m\n\u001b[0m\u001b[0;32m     10\u001b[0m     \u001b[1;32melse\u001b[0m\u001b[1;33m:\u001b[0m\u001b[1;33m\u001b[0m\u001b[1;33m\u001b[0m\u001b[0m\n\u001b[0;32m     11\u001b[0m         \u001b[1;32mTrue\u001b[0m\u001b[1;33m\u001b[0m\u001b[1;33m\u001b[0m\u001b[0m\n",
      "\u001b[1;31mTypeError\u001b[0m: kill() takes exactly 2 arguments (0 given)"
     ]
    }
   ],
   "source": [
    "import random\n",
    "print(\"H A N G M A N\")\n",
    "\n",
    "while True:\n",
    "    choice = input('Type \"play\" to play the game, \"exit\" to quit:')\n",
    "    if choice == \"play\":\n",
    "        break\n",
    "    elif choice == \"exit\":\n",
    "        os.kill()\n",
    "    else:\n",
    "        True\n",
    "\n",
    "created_name = random.choice(['python', 'java', 'kotlin', 'javascript'])\n",
    "guessed_name = len(created_name) * \"-\"\n",
    "created_name = list(created_name)\n",
    "guessed_name_list = list(guessed_name)\n",
    "guessed_letters_set = set()\n",
    "\n",
    "counter = 0\n",
    "\n",
    "while counter < 8:\n",
    "\n",
    "    found = False\n",
    "    print(\"\")\n",
    "    print(guessed_name)\n",
    "    letter = input(\"Input a letter: \")#can be more letters\n",
    "    \n",
    "    for i in range(len(created_name)):\n",
    "        if created_name[i] == letter and \"-\" == guessed_name_list[i]:\n",
    "            guessed_name_list[i] = created_name[i]\n",
    "            found = True\n",
    "    if found != True:\n",
    "        if len(letter) != 1:\n",
    "            print(\"You should input a single letter\")\n",
    "        elif letter.islower() == False:\n",
    "            print(\"Please enter a lowercase English letter\")\n",
    "        elif letter in guessed_letters_set:\n",
    "            print(\"You've already guessed this letter\")\n",
    "        else:\n",
    "            print(\"That letter doesn't appear in the word\")\n",
    "            counter += 1\n",
    "\n",
    "    guessed_letters_set.add(letter)\n",
    "    guessed_name = \"\".join(guessed_name_list)\n",
    "    \n",
    "    if guessed_name == \"\".join(created_name):\n",
    "        break    \n",
    "\n",
    "if guessed_name == \"\".join(created_name):\n",
    "    print(\"You guessed the word!\")\n",
    "    print(\"You survived!\")\n",
    "else:\n",
    "    print(\"You lost!\")"
   ]
  },
  {
   "cell_type": "code",
   "execution_count": null,
   "metadata": {},
   "outputs": [],
   "source": []
  }
 ],
 "metadata": {
  "kernelspec": {
   "display_name": "Python 3",
   "language": "python",
   "name": "python3"
  },
  "language_info": {
   "codemirror_mode": {
    "name": "ipython",
    "version": 3
   },
   "file_extension": ".py",
   "mimetype": "text/x-python",
   "name": "python",
   "nbconvert_exporter": "python",
   "pygments_lexer": "ipython3",
   "version": "3.8.5-final"
  }
 },
 "nbformat": 4,
 "nbformat_minor": 4
}
